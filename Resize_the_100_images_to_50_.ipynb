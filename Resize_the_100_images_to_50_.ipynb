{
  "nbformat": 4,
  "nbformat_minor": 0,
  "metadata": {
    "colab": {
      "provenance": [],
      "authorship_tag": "ABX9TyMHDUKT/Y+pNgthme9zBDj8",
      "include_colab_link": true
    },
    "kernelspec": {
      "name": "python3",
      "display_name": "Python 3"
    },
    "language_info": {
      "name": "python"
    }
  },
  "cells": [
    {
      "cell_type": "markdown",
      "metadata": {
        "id": "view-in-github",
        "colab_type": "text"
      },
      "source": [
        "<a href=\"https://colab.research.google.com/github/Arshnoor7/Mini-Project-Resize-100-Images/blob/main/Resize_the_100_images_to_50_.ipynb\" target=\"_parent\"><img src=\"https://colab.research.google.com/assets/colab-badge.svg\" alt=\"Open In Colab\"/></a>"
      ]
    },
    {
      "cell_type": "code",
      "source": [
        "!mkdir images"
      ],
      "metadata": {
        "id": "Faw1rnFcl7sP"
      },
      "execution_count": 2,
      "outputs": []
    },
    {
      "cell_type": "code",
      "source": [
        "!pip install opencv-python"
      ],
      "metadata": {
        "colab": {
          "base_uri": "https://localhost:8080/"
        },
        "id": "pL9dZynHl2v1",
        "outputId": "774c703b-0eac-41f5-f63c-5738dee198bb"
      },
      "execution_count": 3,
      "outputs": [
        {
          "output_type": "stream",
          "name": "stdout",
          "text": [
            "Looking in indexes: https://pypi.org/simple, https://us-python.pkg.dev/colab-wheels/public/simple/\n",
            "Requirement already satisfied: opencv-python in /usr/local/lib/python3.10/dist-packages (4.7.0.72)\n",
            "Requirement already satisfied: numpy>=1.21.2 in /usr/local/lib/python3.10/dist-packages (from opencv-python) (1.22.4)\n"
          ]
        }
      ]
    },
    {
      "cell_type": "code",
      "execution_count": 4,
      "metadata": {
        "colab": {
          "base_uri": "https://localhost:8080/"
        },
        "id": "jJW-Rmv2l0vC",
        "outputId": "e8b2cdaf-ff04-4688-b8c2-796142a9c992"
      },
      "outputs": [
        {
          "output_type": "stream",
          "name": "stdout",
          "text": [
            "Resized images (17).jfif to 50% of its original size.\n",
            "Resized download (11).jfif to 50% of its original size.\n",
            "Resized images (68).jfif to 50% of its original size.\n",
            "Resized download (24).jfif to 50% of its original size.\n",
            "Resized download (26).jfif to 50% of its original size.\n",
            "Resized images (65).jfif to 50% of its original size.\n",
            "Resized images (45).jfif to 50% of its original size.\n",
            "Resized download (18).jfif to 50% of its original size.\n",
            "Resized images (60).jfif to 50% of its original size.\n",
            "Resized images (11).jfif to 50% of its original size.\n",
            "Resized download (13).jfif to 50% of its original size.\n",
            "Resized download (7).jfif to 50% of its original size.\n",
            "Resized images (53).jfif to 50% of its original size.\n",
            "Resized download (2).jfif to 50% of its original size.\n",
            "Resized images (15).jfif to 50% of its original size.\n",
            "Resized images (42).jfif to 50% of its original size.\n",
            "Resized images (33).jfif to 50% of its original size.\n",
            "Resized download (25).jfif to 50% of its original size.\n",
            "Resized images (47).jfif to 50% of its original size.\n",
            "Resized images (24).jfif to 50% of its original size.\n",
            "Resized download (16).jfif to 50% of its original size.\n",
            "Resized images (36).jfif to 50% of its original size.\n",
            "Resized images (56).jfif to 50% of its original size.\n",
            "Resized images (55).jfif to 50% of its original size.\n",
            "Resized images (16).jfif to 50% of its original size.\n",
            "Resized download (12).jfif to 50% of its original size.\n",
            "Resized images (20).jfif to 50% of its original size.\n",
            "Resized images (61).jfif to 50% of its original size.\n",
            "Resized download (15).jfif to 50% of its original size.\n",
            "Resized images (2).jfif to 50% of its original size.\n",
            "Resized download (27).jfif to 50% of its original size.\n",
            "Resized images (32).jfif to 50% of its original size.\n",
            "Resized download (14).jfif to 50% of its original size.\n",
            "Resized images (25).jfif to 50% of its original size.\n",
            "Resized download (22).jfif to 50% of its original size.\n",
            "Resized images (59).jfif to 50% of its original size.\n",
            "Resized images (44).jfif to 50% of its original size.\n",
            "Resized images (63).jfif to 50% of its original size.\n",
            "Resized images (5).jfif to 50% of its original size.\n",
            "Resized images (58).jfif to 50% of its original size.\n",
            "Resized images (26).jfif to 50% of its original size.\n",
            "Resized images (41).jfif to 50% of its original size.\n",
            "Resized images (64).jfif to 50% of its original size.\n",
            "Resized download (19).jfif to 50% of its original size.\n",
            "Resized download (6).jfif to 50% of its original size.\n",
            "Resized images (1).jfif to 50% of its original size.\n",
            "Resized download (21).jfif to 50% of its original size.\n",
            "Resized images (62).jfif to 50% of its original size.\n",
            "Resized images (35).jfif to 50% of its original size.\n",
            "Resized images (14).jfif to 50% of its original size.\n",
            "Resized download (29).jfif to 50% of its original size.\n",
            "Resized images (29).jfif to 50% of its original size.\n",
            "Resized images (3).jfif to 50% of its original size.\n",
            "Resized download (1).jfif to 50% of its original size.\n",
            "Resized download (20).jfif to 50% of its original size.\n",
            "Resized images (9).jfif to 50% of its original size.\n",
            "Resized download (8).jfif to 50% of its original size.\n",
            "Resized images.jfif to 50% of its original size.\n",
            "Resized images (19).jfif to 50% of its original size.\n",
            "Resized images (22).jfif to 50% of its original size.\n",
            "Resized images (23).jfif to 50% of its original size.\n",
            "Resized images (12).jfif to 50% of its original size.\n",
            "Resized images (49).jfif to 50% of its original size.\n",
            "Resized download (17).jfif to 50% of its original size.\n",
            "Resized images (66).jfif to 50% of its original size.\n",
            "Resized images (51).jfif to 50% of its original size.\n",
            "Resized images (28).jfif to 50% of its original size.\n",
            "Resized images (27).jfif to 50% of its original size.\n",
            "Resized download (30).jfif to 50% of its original size.\n",
            "Resized images (13).jfif to 50% of its original size.\n",
            "Resized images (67).jfif to 50% of its original size.\n",
            "Resized images (7).jfif to 50% of its original size.\n",
            "Resized download (10).jfif to 50% of its original size.\n",
            "Resized images (10).jfif to 50% of its original size.\n",
            "Resized images (39).jfif to 50% of its original size.\n",
            "Resized images (48).jfif to 50% of its original size.\n",
            "Resized images (6).jfif to 50% of its original size.\n",
            "Resized download (23).jfif to 50% of its original size.\n",
            "Resized images (46).jfif to 50% of its original size.\n",
            "Resized download (28).jfif to 50% of its original size.\n",
            "Resized download.jfif to 50% of its original size.\n",
            "Resized images (4).jfif to 50% of its original size.\n",
            "Resized images (52).jfif to 50% of its original size.\n",
            "Resized download (5).jfif to 50% of its original size.\n",
            "Resized images (37).jfif to 50% of its original size.\n",
            "Resized images (34).jfif to 50% of its original size.\n",
            "Resized images (31).jfif to 50% of its original size.\n",
            "Resized images (38).jfif to 50% of its original size.\n",
            "Resized images (18).jfif to 50% of its original size.\n",
            "Resized images (50).jfif to 50% of its original size.\n",
            "Resized download (3).jfif to 50% of its original size.\n",
            "Resized images (8).jfif to 50% of its original size.\n",
            "Resized images (57).jfif to 50% of its original size.\n",
            "Resized download (4).jfif to 50% of its original size.\n",
            "Resized images (43).jfif to 50% of its original size.\n",
            "Resized images (30).jfif to 50% of its original size.\n",
            "Resized images (54).jfif to 50% of its original size.\n",
            "Resized images (21).jfif to 50% of its original size.\n",
            "Resized download (9).jfif to 50% of its original size.\n",
            "Resized images (40).jfif to 50% of its original size.\n"
          ]
        }
      ],
      "source": [
        "import cv2\n",
        "import os\n",
        "\n",
        "# Define the directory where the images are located\n",
        "directory = '/content/images'\n",
        "\n",
        "# Get a list of all the image filenames in the directory\n",
        "image_files = os.listdir(directory)\n",
        "\n",
        "# Iterate over each image file\n",
        "for filename in image_files:\n",
        "    # Construct the full path to the image file\n",
        "    image_path = os.path.join(directory, filename)\n",
        "\n",
        "    # Load the image\n",
        "    image = cv2.imread(image_path)\n",
        "\n",
        "    # Get the original image dimensions\n",
        "    original_height, original_width = image.shape[:2]\n",
        "\n",
        "    # Calculate the new dimensions for resizing (50% of original size)\n",
        "    new_width = int(original_width * 0.5)\n",
        "    new_height = int(original_height * 0.5)\n",
        "\n",
        "    # Resize the image to 50% of its original size\n",
        "    resized_image = cv2.resize(image, (new_width, new_height), interpolation=cv2.INTER_LINEAR)\n",
        "\n",
        "    # Save the resized image\n",
        "    resized_image_path = os.path.join(directory, f'resized_{filename}.png')\n",
        "    cv2.imwrite(resized_image_path, resized_image)\n",
        "\n",
        "    print(f\"Resized {filename} to 50% of its original size.\")\n"
      ]
    }
  ]
}